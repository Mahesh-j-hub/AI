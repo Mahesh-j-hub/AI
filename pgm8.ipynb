{
 "cells": [
  {
   "cell_type": "code",
   "execution_count": 3,
   "metadata": {},
   "outputs": [],
   "source": [
    "from sklearn.model_selection import train_test_split\n",
    "from sklearn.neighbors import KNeighborsClassifier\n",
    "from sklearn import datasets\n",
    " \n"
   ]
  },
  {
   "cell_type": "code",
   "execution_count": 4,
   "metadata": {
    "scrolled": true
   },
   "outputs": [
    {
     "name": "stdout",
     "output_type": "stream",
     "text": [
      "Iris Data set loaded...\n"
     ]
    }
   ],
   "source": [
    "iris=datasets.load_iris()\n",
    "print(\"Iris Data set loaded...\")\n"
   ]
  },
  {
   "cell_type": "code",
   "execution_count": 5,
   "metadata": {},
   "outputs": [
    {
     "name": "stdout",
     "output_type": "stream",
     "text": [
      "Dataset is split into training and testing...\n",
      "Size of trainng data and its label (135, 4) (135,)\n",
      "Size of trainng data and its label (15, 4) (15,)\n"
     ]
    }
   ],
   "source": [
    "x_train, x_test, y_train, y_test = train_test_split(iris.data,iris.target,test_size=0.1)\n",
    "print(\"Dataset is split into training and testing...\")\n",
    "print(\"Size of trainng data and its label\",x_train.shape,y_train.shape)\n",
    "print(\"Size of trainng data and its label\",x_test.shape, y_test.shape)\n"
   ]
  },
  {
   "cell_type": "code",
   "execution_count": 9,
   "metadata": {},
   "outputs": [],
   "source": [
    "# Create object of KNN classifier\n",
    "classifier = KNeighborsClassifier(n_neighbors=1)\n"
   ]
  },
  {
   "cell_type": "code",
   "execution_count": 11,
   "metadata": {},
   "outputs": [],
   "source": [
    "\n",
    "classifier.fit(x_train, y_train)\n",
    "y_pred=classifier.predict(x_test)\n"
   ]
  },
  {
   "cell_type": "code",
   "execution_count": 12,
   "metadata": {},
   "outputs": [
    {
     "name": "stdout",
     "output_type": "stream",
     "text": [
      "Results of Classification using K-nn with K=1 \n",
      " Sample: [5.5 2.6 4.4 1.2]  Actual-label: 1  Predicted-label: 1\n",
      "Classification Accuracy : 0.9333333333333333\n",
      " Sample: [6.1 3.  4.9 1.8]  Actual-label: 2  Predicted-label: 2\n",
      "Classification Accuracy : 0.9333333333333333\n",
      " Sample: [7.3 2.9 6.3 1.8]  Actual-label: 2  Predicted-label: 2\n",
      "Classification Accuracy : 0.9333333333333333\n",
      " Sample: [5.2 4.1 1.5 0.1]  Actual-label: 0  Predicted-label: 0\n",
      "Classification Accuracy : 0.9333333333333333\n",
      " Sample: [5.8 4.  1.2 0.2]  Actual-label: 0  Predicted-label: 0\n",
      "Classification Accuracy : 0.9333333333333333\n",
      " Sample: [4.3 3.  1.1 0.1]  Actual-label: 0  Predicted-label: 0\n",
      "Classification Accuracy : 0.9333333333333333\n",
      " Sample: [5.1 3.5 1.4 0.3]  Actual-label: 0  Predicted-label: 0\n",
      "Classification Accuracy : 0.9333333333333333\n",
      " Sample: [6.8 2.8 4.8 1.4]  Actual-label: 1  Predicted-label: 1\n",
      "Classification Accuracy : 0.9333333333333333\n",
      " Sample: [4.9 3.6 1.4 0.1]  Actual-label: 0  Predicted-label: 0\n",
      "Classification Accuracy : 0.9333333333333333\n",
      " Sample: [5.6 2.5 3.9 1.1]  Actual-label: 1  Predicted-label: 1\n",
      "Classification Accuracy : 0.9333333333333333\n",
      " Sample: [6.9 3.1 4.9 1.5]  Actual-label: 1  Predicted-label: 1\n",
      "Classification Accuracy : 0.9333333333333333\n",
      " Sample: [6.  2.2 5.  1.5]  Actual-label: 2  Predicted-label: 1\n",
      "Classification Accuracy : 0.9333333333333333\n",
      " Sample: [6.7 3.3 5.7 2.5]  Actual-label: 2  Predicted-label: 2\n",
      "Classification Accuracy : 0.9333333333333333\n",
      " Sample: [6.4 3.1 5.5 1.8]  Actual-label: 2  Predicted-label: 2\n",
      "Classification Accuracy : 0.9333333333333333\n",
      " Sample: [6.6 2.9 4.6 1.3]  Actual-label: 1  Predicted-label: 1\n",
      "Classification Accuracy : 0.9333333333333333\n"
     ]
    }
   ],
   "source": [
    "# Display the results\n",
    "print(\"Results of Classification using K-nn with K=1 \")\n",
    "for r in range(0,len(x_test)):\n",
    "    print(\" Sample:\", str(x_test[r]), \" Actual-label:\", str(y_test[r]), \" Predicted-label:\",str(y_pred[r]))\n",
    "    print(\"Classification Accuracy :\" , classifier.score(x_test,y_test))\n",
    " \n"
   ]
  },
  {
   "cell_type": "code",
   "execution_count": null,
   "metadata": {},
   "outputs": [],
   "source": []
  },
  {
   "cell_type": "code",
   "execution_count": null,
   "metadata": {},
   "outputs": [],
   "source": []
  },
  {
   "cell_type": "code",
   "execution_count": null,
   "metadata": {},
   "outputs": [],
   "source": []
  },
  {
   "cell_type": "code",
   "execution_count": null,
   "metadata": {},
   "outputs": [],
   "source": []
  },
  {
   "cell_type": "code",
   "execution_count": null,
   "metadata": {},
   "outputs": [],
   "source": []
  },
  {
   "cell_type": "code",
   "execution_count": null,
   "metadata": {},
   "outputs": [],
   "source": []
  }
 ],
 "metadata": {
  "kernelspec": {
   "display_name": "Python 3",
   "language": "python",
   "name": "python3"
  },
  "language_info": {
   "codemirror_mode": {
    "name": "ipython",
    "version": 3
   },
   "file_extension": ".py",
   "mimetype": "text/x-python",
   "name": "python",
   "nbconvert_exporter": "python",
   "pygments_lexer": "ipython3",
   "version": "3.8.5"
  }
 },
 "nbformat": 4,
 "nbformat_minor": 5
}
